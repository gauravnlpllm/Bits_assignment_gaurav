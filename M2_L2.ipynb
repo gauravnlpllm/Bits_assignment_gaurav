{
 "cells": [
  {
   "cell_type": "markdown",
   "id": "c47a3181-7a2b-4685-be1a-060fb1fcb70e",
   "metadata": {},
   "source": [
    "## Exercise of Lecture 2 of Module 2 (NLP)"
   ]
  },
  {
   "cell_type": "markdown",
   "id": "a9a433ee-d46a-458a-b75f-6220d6e9d5a9",
   "metadata": {},
   "source": [
    "#### Consider the following sentences: \n",
    "-‘Apples are green and red.’ \n",
    "-‘Red apples are sweet.’ \n",
    "-‘Green oranges are sour.’ \n",
    "Create a co-occurrence (word-word) matrix for the words in these sentences. Assume \n",
    "that the context for co-occurrence is a sentence. How would the matrix change if the \n",
    "context for co-occurrence is changed to a window of three (one on the left and one on the \n",
    "right) words?\""
   ]
  },
  {
   "attachments": {},
   "cell_type": "markdown",
   "id": "9818ef80-123f-48b0-b047-25d786ea5c49",
   "metadata": {},
   "source": [
    "#### following is the table\n",
    "<table>\n",
    "  <tr>\n",
    "    <th></th>\n",
    "    <th>apples</th>\n",
    "    <th>are</th>\n",
    "    <th>green</th>\n",
    "    <th>and</th>\n",
    "    <th>red</th>\n",
    "    <th>sweet</th>\n",
    "    <th>oranges</th>\n",
    "    <th>sour</th>\n",
    "  </tr>\n",
    "  <tr>\n",
    "    <td>apples</td>\n",
    "    <td>0</td>\n",
    "    <td>2</td>\n",
    "    <td>0</td>\n",
    "    <td>0</td>\n",
    "    <td>0</td>\n",
    "    <td>1</td>\n",
    "    <td>0</td>\n",
    "    <td>0</td>\n",
    "  </tr>\n",
    "  <tr>\n",
    "    <td>are</td>\n",
    "    <td>2</td>\n",
    "    <td>0</td>\n",
    "    <td>1</td>\n",
    "    <td>0</td>\n",
    "    <td>0</td>\n",
    "    <td>0</td>\n",
    "    <td>1</td>\n",
    "    <td>1</td>\n",
    "  </tr>\n",
    "  <tr>\n",
    "    <td>green</td>\n",
    "    <td>0</td>\n",
    "    <td>1</td>\n",
    "    <td>0</td>\n",
    "    <td>1</td>\n",
    "    <td>0</td>\n",
    "    <td>0</td>\n",
    "    <td>0</td>\n",
    "    <td>0</td>\n",
    "  </tr>\n",
    "  <tr>\n",
    "    <td>and</td>\n",
    "    <td>0</td>\n",
    "    <td>0</td>\n",
    "    <td>1</td>\n",
    "    <td>0</td>\n",
    "    <td>0</td>\n",
    "    <td>0</td>\n",
    "    <td>0</td>\n",
    "    <td>0</td>\n",
    "  </tr>\n",
    "  <tr>\n",
    "    <td>red</td>\n",
    "    <td>0</td>\n",
    "    <td>0</td>\n",
    "    <td>0</td>\n",
    "    <td>0</td>\n",
    "    <td>0</td>\n",
    "    <td>1</td>\n",
    "    <td>0</td>\n",
    "    <td>0</td>\n",
    "  </tr>\n",
    "  <tr>\n",
    "    <td>sweet</td>\n",
    "    <td>1</td>\n",
    "    <td>0</td>\n",
    "    <td>0</td>\n",
    "    <td>0</td>\n",
    "    <td>1</td>\n",
    "    <td>0</td>\n",
    "    <td>0</td>\n",
    "    <td>0</td>\n",
    "  </tr>\n",
    "  <tr>\n",
    "    <td>oranges</td>\n",
    "    <td>0</td>\n",
    "    <td>1</td>\n",
    "    <td>0</td>\n",
    "    <td>0</td>\n",
    "    <td>0</td>\n",
    "    <td>0</td>\n",
    "    <td>0</td>\n",
    "    <td>1</td>\n",
    "  </tr>\n",
    "  <tr>\n",
    "    <td>sour</td>\n",
    "    <td>0</td>\n",
    "    <td>1</td>\n",
    "    <td>0</td>\n",
    "    <td>0</td>\n",
    "    <td>0</td>\n",
    "    <td>0</td>\n",
    "    <td>1</td>\n",
    "    <td>0</td>\n",
    "  </tr>\n",
    "</table>\n"
   ]
  },
  {
   "cell_type": "markdown",
   "id": "91a11132-b00a-4504-82da-f5e75c042b43",
   "metadata": {},
   "source": [
    "#### Calculate TFIDF and complete the following code."
   ]
  },
  {
   "cell_type": "code",
   "execution_count": 3,
   "id": "195f46fa-332a-4548-b949-c226b91300ba",
   "metadata": {},
   "outputs": [
    {
     "name": "stdout",
     "output_type": "stream",
     "text": [
      "Number of words in the corpus: 12\n",
      "The words in the corpus:\n",
      " {'cat', 'log', 'cats', 'dogs', 'dog', 'and', 'great', 'sat', 'the', 'are', 'on', 'mat'}\n"
     ]
    }
   ],
   "source": [
    "import pandas as pd\n",
    "import numpy as np\n",
    "corpus = [\"the cat sat on the mat\", \"the dog sat on the log\", \"cats and dogs are great\"]\n",
    "\n",
    "# Word set of the corpus\n",
    "words_set = set()\n",
    "for doc in corpus:\n",
    "    words = doc.split(' ')\n",
    "    words_set = words_set.union(set(words))\n",
    "\n",
    "print('Number of words in the corpus:', len(words_set))\n",
    "print('The words in the corpus:\\n', words_set)\n"
   ]
  },
  {
   "cell_type": "code",
   "execution_count": 4,
   "id": "b16a95e3-c343-48c8-ad60-99b98a9b4909",
   "metadata": {},
   "outputs": [
    {
     "name": "stdout",
     "output_type": "stream",
     "text": [
      "Term Frequency (TF):\n",
      "   cat  log  cats  dogs  dog  and  great  sat  the  are   on  mat\n",
      "0  1.0  0.0   0.0   0.0  0.0  0.0    0.0  1.0  2.0  0.0  1.0  1.0\n",
      "1  0.0  1.0   0.0   0.0  1.0  0.0    0.0  1.0  2.0  0.0  1.0  0.0\n",
      "2  0.0  0.0   1.0   1.0  0.0  1.0    1.0  0.0  0.0  1.0  0.0  0.0\n"
     ]
    }
   ],
   "source": [
    "n_docs = len(corpus)  # Number of documents in the corpus\n",
    "n_words_set = len(words_set)  # Number of unique words in the corpus\n",
    "df_tf = pd.DataFrame(np.zeros((n_docs, n_words_set)), columns=list(words_set))\n",
    "\n",
    "# Compute Term Frequency (TF)\n",
    "for i in range(n_docs):\n",
    "    words = corpus[i].split(' ')\n",
    "    for w in words:\n",
    "        df_tf.loc[i, w] += 1\n",
    "\n",
    "print(\"Term Frequency (TF):\")\n",
    "print(df_tf)\n"
   ]
  },
  {
   "cell_type": "code",
   "execution_count": 6,
   "id": "b1a5f6e9-4afd-42d8-bbc3-05e3352d9fe0",
   "metadata": {},
   "outputs": [
    {
     "name": "stdout",
     "output_type": "stream",
     "text": [
      "Inverse Document Frequency (IDF):\n",
      "            cat:        0.0\n",
      "            log: 0.4054651081081644\n",
      "           cats: 0.4054651081081644\n",
      "           dogs: 0.4054651081081644\n",
      "            dog:        0.0\n",
      "            and: 0.4054651081081644\n",
      "          great: 0.4054651081081644\n",
      "            sat:        0.0\n",
      "            the:        0.0\n",
      "            are: 0.4054651081081644\n",
      "             on:        0.0\n",
      "            mat: 0.4054651081081644\n"
     ]
    }
   ],
   "source": [
    "print(\"Inverse Document Frequency (IDF):\")\n",
    "idf = {}\n",
    "for w in words_set:\n",
    "    k = 0  # Number of documents in the corpus that contain this word\n",
    "    for i in range(n_docs):\n",
    "        if w in corpus[i]:\n",
    "            k += 1\n",
    "    idf[w] = np.log(n_docs / (k + 1))\n",
    "    print(f'{w:>15}: {idf[w]:>10}')\n"
   ]
  },
  {
   "cell_type": "code",
   "execution_count": 7,
   "id": "8dbdae79-2e3c-423d-a75d-a3fc4b25c630",
   "metadata": {},
   "outputs": [
    {
     "name": "stdout",
     "output_type": "stream",
     "text": [
      "TF-IDF values:\n",
      "   cat       log      cats      dogs  dog       and     great  sat  the  \\\n",
      "0  0.0  0.000000  0.000000  0.000000  0.0  0.000000  0.000000  0.0  0.0   \n",
      "1  0.0  0.405465  0.000000  0.000000  0.0  0.000000  0.000000  0.0  0.0   \n",
      "2  0.0  0.000000  0.405465  0.405465  0.0  0.405465  0.405465  0.0  0.0   \n",
      "\n",
      "        are   on       mat  \n",
      "0  0.000000  0.0  0.405465  \n",
      "1  0.000000  0.0  0.000000  \n",
      "2  0.405465  0.0  0.000000  \n"
     ]
    }
   ],
   "source": [
    "# Compute TF-IDF\n",
    "df_tfidf = df_tf.copy()\n",
    "for w in words_set:\n",
    "    df_tfidf[w] *= idf[w]\n",
    "\n",
    "# Print TF-IDF values\n",
    "print(\"TF-IDF values:\")\n",
    "print(df_tfidf)\n"
   ]
  },
  {
   "cell_type": "code",
   "execution_count": null,
   "id": "f5a4f6e1-83a9-4d08-b16d-0e35dec2c022",
   "metadata": {},
   "outputs": [],
   "source": []
  }
 ],
 "metadata": {
  "kernelspec": {
   "display_name": "Python 3 (ipykernel)",
   "language": "python",
   "name": "python3"
  },
  "language_info": {
   "codemirror_mode": {
    "name": "ipython",
    "version": 3
   },
   "file_extension": ".py",
   "mimetype": "text/x-python",
   "name": "python",
   "nbconvert_exporter": "python",
   "pygments_lexer": "ipython3",
   "version": "3.10.14"
  }
 },
 "nbformat": 4,
 "nbformat_minor": 5
}
