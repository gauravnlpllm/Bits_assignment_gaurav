{
 "cells": [
  {
   "cell_type": "code",
   "execution_count": 2,
   "id": "4b8505da-e42f-46e1-8983-f7a374e4f72e",
   "metadata": {},
   "outputs": [
    {
     "name": "stdout",
     "output_type": "stream",
     "text": [
      "Collecting numpy\n",
      "  Downloading numpy-1.26.4-cp310-cp310-manylinux_2_17_x86_64.manylinux2014_x86_64.whl.metadata (61 kB)\n",
      "\u001b[2K     \u001b[90m━━━━━━━━━━━━━━━━━━━━━━━━━━━━━━━━━━━━━━━━\u001b[0m \u001b[32m61.0/61.0 kB\u001b[0m \u001b[31m1.2 MB/s\u001b[0m eta \u001b[36m0:00:00\u001b[0mta \u001b[36m0:00:01\u001b[0m\n",
      "\u001b[?25hDownloading numpy-1.26.4-cp310-cp310-manylinux_2_17_x86_64.manylinux2014_x86_64.whl (18.2 MB)\n",
      "\u001b[2K   \u001b[90m━━━━━━━━━━━━━━━━━━━━━━━━━━━━━━━━━━━━━━━━\u001b[0m \u001b[32m18.2/18.2 MB\u001b[0m \u001b[31m10.2 MB/s\u001b[0m eta \u001b[36m0:00:00\u001b[0m00:01\u001b[0m00:01\u001b[0m\n",
      "\u001b[?25hInstalling collected packages: numpy\n",
      "Successfully installed numpy-1.26.4\n"
     ]
    }
   ],
   "source": [
    "!pip install numpy"
   ]
  },
  {
   "cell_type": "code",
   "execution_count": 4,
   "id": "161eea51-1ea2-446b-b69e-ad26238dcc5a",
   "metadata": {
    "tags": []
   },
   "outputs": [
    {
     "name": "stdout",
     "output_type": "stream",
     "text": [
      "Theta using Gradient Descent:\n",
      " [[ 2.17374796]\n",
      " [-0.05705186]\n",
      " [ 0.47123164]\n",
      " [ 0.22120924]]\n",
      "Theta using Stochastic Gradient Descent:\n",
      " [[ 3.37094979]\n",
      " [-0.1574335 ]\n",
      " [ 0.57592458]\n",
      " [ 0.36825206]]\n",
      "Theta using Mini-Batch Gradient Descent:\n",
      " [[-1.53322242]\n",
      " [ 0.07631192]\n",
      " [ 0.61436968]\n",
      " [ 0.30174171]]\n"
     ]
    }
   ],
   "source": [
    "import numpy as np\n",
    "\n",
    "# Given sentence\n",
    "sentence = \"The rewards of all your hard work in the garden are easy to see.\"\n",
    "\n",
    "# Convert sentence to lowercase and remove spaces\n",
    "sentence_cleaned = sentence.lower().replace(\" \", \"\")\n",
    "\n",
    "# Create a character to index and index to character mapping\n",
    "chars = sorted(list(set(sentence_cleaned)))\n",
    "char_to_idx = {char: idx for idx, char in enumerate(chars)}\n",
    "idx_to_char = {idx: char for idx, char in enumerate(chars)}\n",
    "\n",
    "# Convert sentence to numerical representation\n",
    "sentence_indices = [char_to_idx[char] for char in sentence_cleaned]\n",
    "\n",
    "# Generate input-output pairs: use 3 characters to predict the 4th character\n",
    "X = []\n",
    "y = []\n",
    "for i in range(len(sentence_indices) - 3):\n",
    "    X.append(sentence_indices[i:i+3])\n",
    "    y.append(sentence_indices[i+3])\n",
    "X = np.array(X)\n",
    "y = np.array(y).reshape(-1, 1)\n",
    "\n",
    "# Add bias term to X\n",
    "X_b = np.c_[np.ones((X.shape[0], 1)), X]\n",
    "\n",
    "# MSE loss function\n",
    "def mse_loss(y_true, y_pred):\n",
    "    return np.mean((y_true - y_pred)**2)\n",
    "\n",
    "# Gradient of MSE loss function\n",
    "def mse_gradient(X, y, theta):\n",
    "    n = len(y)\n",
    "    return 2/n * X.T.dot(X.dot(theta) - y)\n",
    "\n",
    "# Gradient Descent algorithm\n",
    "def gradient_descent(X, y, learning_rate=0.001, n_iterations=1000):\n",
    "    theta = np.random.randn(4, 1) # Random initialization for 3 characters + bias\n",
    "    for iteration in range(n_iterations):\n",
    "        gradients = mse_gradient(X, y, theta)\n",
    "        theta -= learning_rate * gradients\n",
    "    return theta\n",
    "\n",
    "# Stochastic Gradient Descent algorithm\n",
    "def stochastic_gradient_descent(X, y, learning_rate=0.001, n_epochs=50):\n",
    "    theta = np.random.randn(4, 1) # Random initialization for 3 characters + bias\n",
    "    m = len(y)\n",
    "    for epoch in range(n_epochs):\n",
    "        for i in range(m):\n",
    "            random_index = np.random.randint(m)\n",
    "            xi = X[random_index:random_index+1]\n",
    "            yi = y[random_index:random_index+1]\n",
    "            gradients = mse_gradient(xi, yi, theta)\n",
    "            theta -= learning_rate * gradients\n",
    "    return theta\n",
    "\n",
    "# Mini-Batch Gradient Descent algorithm\n",
    "def mini_batch_gradient_descent(X, y, learning_rate=0.001, n_epochs=50, batch_size=20):\n",
    "    theta = np.random.randn(4, 1) # Random initialization for 3 characters + bias\n",
    "    m = len(y)\n",
    "    for epoch in range(n_epochs):\n",
    "        shuffled_indices = np.random.permutation(m)\n",
    "        X_shuffled = X[shuffled_indices]\n",
    "        y_shuffled = y[shuffled_indices]\n",
    "        for i in range(0, m, batch_size):\n",
    "            xi = X_shuffled[i:i+batch_size]\n",
    "            yi = y_shuffled[i:i+batch_size]\n",
    "            gradients = mse_gradient(xi, yi, theta)\n",
    "            theta -= learning_rate * gradients\n",
    "    return theta\n",
    "\n",
    "# Run Gradient Descent\n",
    "theta_gd = gradient_descent(X_b, y)\n",
    "print(\"Theta using Gradient Descent:\\n\", theta_gd)\n",
    "\n",
    "# Run Stochastic Gradient Descent\n",
    "theta_sgd = stochastic_gradient_descent(X_b, y)\n",
    "print(\"Theta using Stochastic Gradient Descent:\\n\", theta_sgd)\n",
    "\n",
    "# Run Mini-Batch Gradient Descent\n",
    "theta_mbgd = mini_batch_gradient_descent(X_b, y)\n",
    "print(\"Theta using Mini-Batch Gradient Descent:\\n\", theta_mbgd)\n"
   ]
  },
  {
   "cell_type": "code",
   "execution_count": null,
   "id": "64735ef1-3dca-4a1f-983c-6fda9c4fcf4f",
   "metadata": {},
   "outputs": [],
   "source": []
  }
 ],
 "metadata": {
  "kernelspec": {
   "display_name": "Python 3 (ipykernel)",
   "language": "python",
   "name": "python3"
  },
  "language_info": {
   "codemirror_mode": {
    "name": "ipython",
    "version": 3
   },
   "file_extension": ".py",
   "mimetype": "text/x-python",
   "name": "python",
   "nbconvert_exporter": "python",
   "pygments_lexer": "ipython3",
   "version": "3.10.14"
  }
 },
 "nbformat": 4,
 "nbformat_minor": 5
}
