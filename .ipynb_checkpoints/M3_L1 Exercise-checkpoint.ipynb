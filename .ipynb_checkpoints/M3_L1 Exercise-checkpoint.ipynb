{
 "cells": [
  {
   "cell_type": "code",
   "execution_count": 2,
   "id": "c6ef6316-1902-479b-97cb-fc8cb63651b3",
   "metadata": {
    "tags": []
   },
   "outputs": [
    {
     "name": "stdout",
     "output_type": "stream",
     "text": [
      "Time taken to read CSV: 0.13695788383483887 seconds\n"
     ]
    }
   ],
   "source": [
    "import pandas as pd\n",
    "import time\n",
    "\n",
    "# Start the timer\n",
    "start_time = time.time()\n",
    "\n",
    "# Read the CSV file into a pandas DataFrame\n",
    "df = pd.read_csv('netflix_titles.csv', encoding='ISO-8859-1')\n",
    "\n",
    "# Calculate the time taken and print it\n",
    "time_taken = time.time() - start_time\n",
    "print(f\"Time taken to read CSV: {time_taken} seconds\")\n"
   ]
  },
  {
   "cell_type": "code",
   "execution_count": 4,
   "id": "10411d14-b78a-40b0-988a-802a87c05d57",
   "metadata": {
    "tags": []
   },
   "outputs": [
    {
     "name": "stdout",
     "output_type": "stream",
     "text": [
      "Time taken to read CSV file: 0.17534232139587402 seconds\n"
     ]
    }
   ],
   "source": [
    "import pandas as pd\n",
    "import time\n",
    "from multiprocessing import Pool\n",
    "\n",
    "# Function to read a chunk of a CSV file\n",
    "def read_csv_chunk(chunk_start, chunk_size):\n",
    "    df = pd.read_csv('netflix_titles.csv', encoding='ISO-8859-1', skiprows=chunk_start, nrows=chunk_size, header=None)\n",
    "    return df\n",
    "\n",
    "# Total number of rows in your CSV (excluding the header)\n",
    "total_rows = 10000  # Replace with the actual number of rows in your CSV\n",
    "\n",
    "# Number of processes to use\n",
    "num_processes = 4\n",
    "\n",
    "# Calculate chunk size based on total rows and number of processes\n",
    "chunk_size = total_rows // num_processes\n",
    "\n",
    "# Create a list of start positions for each chunk\n",
    "chunks = [(i * chunk_size, chunk_size) for i in range(num_processes)]\n",
    "\n",
    "# Start the timer\n",
    "start_time = time.time()\n",
    "\n",
    "# Create a pool of workers and read chunks in parallel\n",
    "with Pool(processes=num_processes) as pool:\n",
    "    dataframes = pool.starmap(read_csv_chunk, chunks)\n",
    "\n",
    "# Combine the chunks into a single DataFrame\n",
    "df_combined = pd.concat(dataframes)\n",
    "\n",
    "# Calculate the time taken and print it\n",
    "time_taken = time.time() - start_time\n",
    "print(f\"Time taken to read CSV file: {time_taken} seconds\")\n"
   ]
  },
  {
   "cell_type": "code",
   "execution_count": null,
   "id": "5b509235-6767-41ab-8b49-3e3eb13481ec",
   "metadata": {},
   "outputs": [],
   "source": []
  }
 ],
 "metadata": {
  "kernelspec": {
   "display_name": ".conda-default:Python",
   "language": "python",
   "name": "conda-env-.conda-default-py"
  },
  "language_info": {
   "codemirror_mode": {
    "name": "ipython",
    "version": 3
   },
   "file_extension": ".py",
   "mimetype": "text/x-python",
   "name": "python",
   "nbconvert_exporter": "python",
   "pygments_lexer": "ipython3",
   "version": "3.9.19"
  }
 },
 "nbformat": 4,
 "nbformat_minor": 5
}
