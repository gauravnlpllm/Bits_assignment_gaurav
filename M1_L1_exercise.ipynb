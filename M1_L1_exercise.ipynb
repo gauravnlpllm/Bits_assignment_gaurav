{
 "cells": [
  {
   "cell_type": "markdown",
   "id": "c1d019d7-ebdf-49c0-81d6-c817a85c525c",
   "metadata": {},
   "source": [
    "### Exercise: Python and Numpy"
   ]
  },
  {
   "cell_type": "markdown",
   "id": "4d0577a4-8f5a-4ec5-94e6-b4a65df7bfea",
   "metadata": {},
   "source": [
    ">Write a function that takes a list of numbers as input and returns a new list that contains only the\n",
    "prime numbers. You will have to read about the for loop structures on your own for this, as that\n",
    "could not get covered in the lecture."
   ]
  },
  {
   "cell_type": "code",
   "execution_count": 1,
   "id": "6f618fc2-a2ed-4157-9ef2-c20482d5a7c8",
   "metadata": {},
   "outputs": [
    {
     "name": "stdout",
     "output_type": "stream",
     "text": [
      "[2, 3, 5, 7, 11, 13, 17, 19]\n"
     ]
    }
   ],
   "source": [
    "def filter_primes(numbers):\n",
    "    def is_prime(n):\n",
    "        if n < 2:\n",
    "            return False\n",
    "        for i in range(2, int(n**0.5) + 1):\n",
    "            if n % i == 0:\n",
    "                return False\n",
    "        return True\n",
    "    return [num for num in numbers if is_prime(num)]\n",
    "print(filter_primes(list(range(20))))"
   ]
  },
  {
   "cell_type": "markdown",
   "id": "0d2369bd-dcba-44ef-a24b-f66a99ab7a66",
   "metadata": {},
   "source": [
    "#### Functions and Error Handling\n",
    ">Write a function that takes a string as input and returns a dictionary where the keys are the\n",
    "words in the string, and the values are the frequencies of each word.\n"
   ]
  },
  {
   "cell_type": "code",
   "execution_count": 9,
   "id": "2da0c3d3-dbab-4bed-9f24-8b9b6023553a",
   "metadata": {},
   "outputs": [
    {
     "name": "stdout",
     "output_type": "stream",
     "text": [
      "{'the': 2, 'quick': 1, 'brown': 1, 'fox': 1, 'jumps': 1, 'over': 1, 'lazy': 1, 'dog': 1}\n"
     ]
    }
   ],
   "source": [
    "def word_frequencies(text):\n",
    "    words = text.split()\n",
    "    frequencies = {}\n",
    "    for word in words:\n",
    "        frequencies[word] = frequencies.get(word, 0) + 1\n",
    "    return frequencies\n",
    "print(word_frequencies(\"the quick brown fox jumps over the lazy dog\"))"
   ]
  },
  {
   "cell_type": "markdown",
   "id": "933242b6-4abe-4c71-a1a3-f1870d1224f7",
   "metadata": {},
   "source": [
    "#### Numpy & functions\n",
    "> Write a function that takes a numpy array as input and returns a new array that contains only the\n",
    "elements that are greater than the mean of the original array. Bonus: Perform operations like\n",
    "add, multiply etc on the entire array at once."
   ]
  },
  {
   "cell_type": "code",
   "execution_count": 12,
   "id": "0684eaad-60e6-49d4-b7d0-56ce1c80ede6",
   "metadata": {},
   "outputs": [
    {
     "name": "stdout",
     "output_type": "stream",
     "text": [
      "Collecting numpy\n",
      "  Downloading numpy-1.26.4-cp310-cp310-manylinux_2_17_x86_64.manylinux2014_x86_64.whl.metadata (61 kB)\n",
      "\u001b[2K     \u001b[90m━━━━━━━━━━━━━━━━━━━━━━━━━━━━━━━━━━━━━━━━\u001b[0m \u001b[32m61.0/61.0 kB\u001b[0m \u001b[31m2.7 MB/s\u001b[0m eta \u001b[36m0:00:00\u001b[0m\n",
      "\u001b[?25hDownloading numpy-1.26.4-cp310-cp310-manylinux_2_17_x86_64.manylinux2014_x86_64.whl (18.2 MB)\n",
      "\u001b[2K   \u001b[90m━━━━━━━━━━━━━━━━━━━━━━━━━━━━━━━━━━━━━━━━\u001b[0m \u001b[32m18.2/18.2 MB\u001b[0m \u001b[31m36.5 MB/s\u001b[0m eta \u001b[36m0:00:00\u001b[0m00:01\u001b[0m00:01\u001b[0m\n",
      "\u001b[?25hInstalling collected packages: numpy\n",
      "Successfully installed numpy-1.26.4\n"
     ]
    }
   ],
   "source": [
    "!pip install numpy"
   ]
  },
  {
   "cell_type": "code",
   "execution_count": 13,
   "id": "ee28fea5-fbf1-45c4-a771-17b54119f7f4",
   "metadata": {},
   "outputs": [
    {
     "name": "stdout",
     "output_type": "stream",
     "text": [
      "[ 6  7  8  9 10]\n"
     ]
    }
   ],
   "source": [
    "import numpy as np\n",
    "def filter_greater_than_mean(arr):\n",
    "    return arr[arr > np.mean(arr)]\n",
    "arr = np.array([1, 2, 3, 4, 5, 6, 7, 8, 9, 10])\n",
    "print(filter_greater_than_mean(arr))"
   ]
  }
 ],
 "metadata": {
  "kernelspec": {
   "display_name": "Python 3 (ipykernel)",
   "language": "python",
   "name": "python3"
  },
  "language_info": {
   "codemirror_mode": {
    "name": "ipython",
    "version": 3
   },
   "file_extension": ".py",
   "mimetype": "text/x-python",
   "name": "python",
   "nbconvert_exporter": "python",
   "pygments_lexer": "ipython3",
   "version": "3.10.14"
  }
 },
 "nbformat": 4,
 "nbformat_minor": 5
}
