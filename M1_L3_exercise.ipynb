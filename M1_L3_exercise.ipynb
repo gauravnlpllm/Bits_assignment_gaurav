{
 "cells": [
  {
   "cell_type": "markdown",
   "id": "6bf3b76c-d0cf-4bae-9926-d7ca04974d08",
   "metadata": {
    "editable": true,
    "slideshow": {
     "slide_type": ""
    },
    "tags": []
   },
   "source": [
    "## <center>Problem Statement: Simple Linear Regression with PyTorch</center>"
   ]
  },
  {
   "cell_type": "markdown",
   "id": "d36d6f19-13f5-4316-aceb-a92032d1f1b2",
   "metadata": {},
   "source": [
    ">Your task is to implement a simple linear regression model using PyTorch. You will be working\n",
    "with a set of 10 random points on a 2D plane. The goal is to learn the distribution of these points\n",
    "using the equation of a straight line, y = mx + c."
   ]
  },
  {
   "cell_type": "code",
   "execution_count": 5,
   "id": "653eab27-2d64-4d02-bc3b-4f67cc53e352",
   "metadata": {
    "editable": true,
    "slideshow": {
     "slide_type": ""
    },
    "tags": []
   },
   "outputs": [
    {
     "name": "stdout",
     "output_type": "stream",
     "text": [
      "Point 1: (-5.83, 3.94)\n",
      "Point 2: (-5.13, 4.56)\n",
      "Point 3: (5.07, -9.86)\n",
      "Point 4: (-2.24, 0.88)\n",
      "Point 5: (2.68, -8.27)\n",
      "Point 6: (4.39, -0.49)\n",
      "Point 7: (0.17, 1.80)\n",
      "Point 8: (-4.91, -6.02)\n",
      "Point 9: (-3.25, -7.91)\n",
      "Point 10: (3.75, -1.55)\n"
     ]
    }
   ],
   "source": [
    "import random\n",
    "\n",
    "def generate_random_points(num_points):\n",
    "    points = []\n",
    "    for _ in range(num_points):\n",
    "        x = random.uniform(-10, 10)  # Adjust the range as needed\n",
    "        y = random.uniform(-10, 10)\n",
    "        points.append((x, y))\n",
    "    return points\n",
    "\n",
    "num_points = 10\n",
    "random_points = generate_random_points(num_points)\n",
    "for i, point in enumerate(random_points, start=1):\n",
    "    print(f\"Point {i}: ({point[0]:.2f}, {point[1]:.2f})\")\n"
   ]
  },
  {
   "cell_type": "code",
   "execution_count": 6,
   "id": "43d3eabe-4b4d-4e5c-9ec6-acbd2353afa6",
   "metadata": {},
   "outputs": [
    {
     "name": "stdout",
     "output_type": "stream",
     "text": [
      "LinearRegression(\n",
      "  (linear): Linear(in_features=1, out_features=1, bias=True)\n",
      ")\n"
     ]
    }
   ],
   "source": [
    "import torch\n",
    "import torch.nn as nn\n",
    "\n",
    "class LinearRegression(nn.Module):\n",
    "    def __init__(self):\n",
    "        super(LinearRegression, self).__init__()\n",
    "        # Define the linear layer with one input feature and one output feature\n",
    "        self.linear = nn.Linear(1, 1)\n",
    "\n",
    "    def forward(self, x):\n",
    "        # Apply the linear transformation (y = mx + c)\n",
    "        return self.linear(x)\n",
    "\n",
    "# Create an instance of the LinearRegression model\n",
    "model = LinearRegression()\n",
    "\n",
    "# Print the model architecture\n",
    "print(model)\n"
   ]
  },
  {
   "cell_type": "code",
   "execution_count": 7,
   "id": "7051fde8-33ab-4972-8f77-c944ea7f1a53",
   "metadata": {
    "editable": true,
    "slideshow": {
     "slide_type": ""
    },
    "tags": []
   },
   "outputs": [
    {
     "name": "stdout",
     "output_type": "stream",
     "text": [
      "Mean Squared Error (MSE): 0.31000009179115295\n"
     ]
    }
   ],
   "source": [
    "import torch\n",
    "\n",
    "class MeanSquaredError(torch.nn.Module):\n",
    "    def __init__(self):\n",
    "        super(MeanSquaredError, self).__init__()\n",
    "\n",
    "    def forward(self, y_true, y_pred):\n",
    "        # Compute the squared difference between true and predicted values\n",
    "        squared_diff = (y_true - y_pred) ** 2\n",
    "        # Calculate the mean over all data points\n",
    "        mse_loss = torch.mean(squared_diff)\n",
    "        return mse_loss\n",
    "\n",
    "# Example usage:\n",
    "# Create an instance of the loss function\n",
    "loss_fn = MeanSquaredError()\n",
    "\n",
    "# Generate some example data (replace with your actual data)\n",
    "y_true = torch.tensor([3.0, 4.0, 5.0])  # Ground truth values\n",
    "y_pred = torch.tensor([2.5, 3.8, 4.2])  # Predicted values\n",
    "\n",
    "# Compute the MSE loss\n",
    "mse_loss = loss_fn(y_true, y_pred)\n",
    "print(f\"Mean Squared Error (MSE): {mse_loss.item()}\")\n"
   ]
  },
  {
   "cell_type": "code",
   "execution_count": 8,
   "id": "faa22b75-878b-443e-aad5-739dac9ccd43",
   "metadata": {},
   "outputs": [],
   "source": [
    "import torch\n",
    "import torch.optim as optim\n",
    "\n",
    "# Create your linear regression model (already defined)\n",
    "model = LinearRegression()\n",
    "\n",
    "# Define the loss function (MSE in this case)\n",
    "criterion = torch.nn.MSELoss()\n",
    "\n",
    "# Initialize the SGD optimizer with a learning rate\n",
    "optimizer = optim.SGD(model.parameters(), lr=0.01)\n"
   ]
  },
  {
   "cell_type": "code",
   "execution_count": 9,
   "id": "7e1021ff-48ee-4231-862d-2944480158eb",
   "metadata": {},
   "outputs": [],
   "source": [
    "# Convert points to tensors\n",
    "x_data = torch.tensor([point[0] for point in random_points], dtype=torch.float32).unsqueeze(1)\n",
    "y_data = torch.tensor([point[1] for point in random_points], dtype=torch.float32).unsqueeze(1)"
   ]
  },
  {
   "cell_type": "code",
   "execution_count": 10,
   "id": "23ff804b-29e8-4745-ae63-1ff7fc0a3476",
   "metadata": {},
   "outputs": [
    {
     "name": "stdout",
     "output_type": "stream",
     "text": [
      "Epoch [1/100], Loss: 32.3516\n",
      "Epoch [2/100], Loss: 31.4415\n",
      "Epoch [3/100], Loss: 30.8280\n",
      "Epoch [4/100], Loss: 30.3546\n",
      "Epoch [5/100], Loss: 29.9513\n",
      "Epoch [6/100], Loss: 29.5868\n",
      "Epoch [7/100], Loss: 29.2466\n",
      "Epoch [8/100], Loss: 28.9242\n",
      "Epoch [9/100], Loss: 28.6164\n",
      "Epoch [10/100], Loss: 28.3215\n",
      "Epoch [11/100], Loss: 28.0384\n",
      "Epoch [12/100], Loss: 27.7666\n",
      "Epoch [13/100], Loss: 27.5054\n",
      "Epoch [14/100], Loss: 27.2543\n",
      "Epoch [15/100], Loss: 27.0131\n",
      "Epoch [16/100], Loss: 26.7812\n",
      "Epoch [17/100], Loss: 26.5584\n",
      "Epoch [18/100], Loss: 26.3442\n",
      "Epoch [19/100], Loss: 26.1384\n",
      "Epoch [20/100], Loss: 25.9406\n",
      "Epoch [21/100], Loss: 25.7505\n",
      "Epoch [22/100], Loss: 25.5677\n",
      "Epoch [23/100], Loss: 25.3921\n",
      "Epoch [24/100], Loss: 25.2233\n",
      "Epoch [25/100], Loss: 25.0611\n",
      "Epoch [26/100], Loss: 24.9052\n",
      "Epoch [27/100], Loss: 24.7553\n",
      "Epoch [28/100], Loss: 24.6113\n",
      "Epoch [29/100], Loss: 24.4729\n",
      "Epoch [30/100], Loss: 24.3398\n",
      "Epoch [31/100], Loss: 24.2120\n",
      "Epoch [32/100], Loss: 24.0891\n",
      "Epoch [33/100], Loss: 23.9710\n",
      "Epoch [34/100], Loss: 23.8574\n",
      "Epoch [35/100], Loss: 23.7483\n",
      "Epoch [36/100], Loss: 23.6435\n",
      "Epoch [37/100], Loss: 23.5427\n",
      "Epoch [38/100], Loss: 23.4459\n",
      "Epoch [39/100], Loss: 23.3528\n",
      "Epoch [40/100], Loss: 23.2633\n",
      "Epoch [41/100], Loss: 23.1773\n",
      "Epoch [42/100], Loss: 23.0947\n",
      "Epoch [43/100], Loss: 23.0152\n",
      "Epoch [44/100], Loss: 22.9389\n",
      "Epoch [45/100], Loss: 22.8655\n",
      "Epoch [46/100], Loss: 22.7950\n",
      "Epoch [47/100], Loss: 22.7272\n",
      "Epoch [48/100], Loss: 22.6621\n",
      "Epoch [49/100], Loss: 22.5995\n",
      "Epoch [50/100], Loss: 22.5393\n",
      "Epoch [51/100], Loss: 22.4815\n",
      "Epoch [52/100], Loss: 22.4259\n",
      "Epoch [53/100], Loss: 22.3725\n",
      "Epoch [54/100], Loss: 22.3211\n",
      "Epoch [55/100], Loss: 22.2718\n",
      "Epoch [56/100], Loss: 22.2244\n",
      "Epoch [57/100], Loss: 22.1788\n",
      "Epoch [58/100], Loss: 22.1350\n",
      "Epoch [59/100], Loss: 22.0929\n",
      "Epoch [60/100], Loss: 22.0524\n",
      "Epoch [61/100], Loss: 22.0135\n",
      "Epoch [62/100], Loss: 21.9761\n",
      "Epoch [63/100], Loss: 21.9402\n",
      "Epoch [64/100], Loss: 21.9057\n",
      "Epoch [65/100], Loss: 21.8725\n",
      "Epoch [66/100], Loss: 21.8406\n",
      "Epoch [67/100], Loss: 21.8100\n",
      "Epoch [68/100], Loss: 21.7805\n",
      "Epoch [69/100], Loss: 21.7522\n",
      "Epoch [70/100], Loss: 21.7250\n",
      "Epoch [71/100], Loss: 21.6988\n",
      "Epoch [72/100], Loss: 21.6737\n",
      "Epoch [73/100], Loss: 21.6495\n",
      "Epoch [74/100], Loss: 21.6263\n",
      "Epoch [75/100], Loss: 21.6040\n",
      "Epoch [76/100], Loss: 21.5825\n",
      "Epoch [77/100], Loss: 21.5619\n",
      "Epoch [78/100], Loss: 21.5421\n",
      "Epoch [79/100], Loss: 21.5231\n",
      "Epoch [80/100], Loss: 21.5048\n",
      "Epoch [81/100], Loss: 21.4872\n",
      "Epoch [82/100], Loss: 21.4703\n",
      "Epoch [83/100], Loss: 21.4540\n",
      "Epoch [84/100], Loss: 21.4384\n",
      "Epoch [85/100], Loss: 21.4234\n",
      "Epoch [86/100], Loss: 21.4090\n",
      "Epoch [87/100], Loss: 21.3951\n",
      "Epoch [88/100], Loss: 21.3818\n",
      "Epoch [89/100], Loss: 21.3690\n",
      "Epoch [90/100], Loss: 21.3567\n",
      "Epoch [91/100], Loss: 21.3448\n",
      "Epoch [92/100], Loss: 21.3335\n",
      "Epoch [93/100], Loss: 21.3225\n",
      "Epoch [94/100], Loss: 21.3120\n",
      "Epoch [95/100], Loss: 21.3019\n",
      "Epoch [96/100], Loss: 21.2922\n",
      "Epoch [97/100], Loss: 21.2829\n",
      "Epoch [98/100], Loss: 21.2740\n",
      "Epoch [99/100], Loss: 21.2653\n",
      "Epoch [100/100], Loss: 21.2571\n",
      "Learned parameters:\n",
      "Slope (m): -0.5048875212669373\n",
      "Y-intercept (c): -2.120234489440918\n"
     ]
    }
   ],
   "source": [
    "# Training loop\n",
    "num_epochs = 100\n",
    "for epoch in range(num_epochs):\n",
    "    # Forward pass\n",
    "    y_pred = model(x_data)\n",
    "    \n",
    "    # Compute the loss\n",
    "    loss = criterion(y_pred, y_data)\n",
    "    \n",
    "    # Backward pass and optimization\n",
    "    optimizer.zero_grad()\n",
    "    loss.backward()\n",
    "    optimizer.step()\n",
    "    \n",
    "    # Print loss at each iteration\n",
    "    print(f\"Epoch [{epoch+1}/{num_epochs}], Loss: {loss.item():.4f}\")\n",
    "\n",
    "# Print the learned parameters (slope and y-intercept)\n",
    "print(\"Learned parameters:\")\n",
    "print(f\"Slope (m): {model.linear.weight.item()}\")\n",
    "print(f\"Y-intercept (c): {model.linear.bias.item()}\")"
   ]
  },
  {
   "cell_type": "code",
   "execution_count": 12,
   "id": "51866463-c243-4692-8835-00e61f980a89",
   "metadata": {},
   "outputs": [
    {
     "name": "stdout",
     "output_type": "stream",
     "text": [
      "Collecting matplotlib\n",
      "  Downloading matplotlib-3.9.0-cp310-cp310-manylinux_2_17_x86_64.manylinux2014_x86_64.whl.metadata (11 kB)\n",
      "Collecting contourpy>=1.0.1 (from matplotlib)\n",
      "  Downloading contourpy-1.2.1-cp310-cp310-manylinux_2_17_x86_64.manylinux2014_x86_64.whl.metadata (5.8 kB)\n",
      "Collecting cycler>=0.10 (from matplotlib)\n",
      "  Downloading cycler-0.12.1-py3-none-any.whl.metadata (3.8 kB)\n",
      "Collecting fonttools>=4.22.0 (from matplotlib)\n",
      "  Downloading fonttools-4.53.0-cp310-cp310-manylinux_2_17_x86_64.manylinux2014_x86_64.whl.metadata (162 kB)\n",
      "\u001b[2K     \u001b[90m━━━━━━━━━━━━━━━━━━━━━━━━━━━━━━━━━━━━━━━\u001b[0m \u001b[32m162.2/162.2 kB\u001b[0m \u001b[31m1.2 MB/s\u001b[0m eta \u001b[36m0:00:00\u001b[0ma \u001b[36m0:00:01\u001b[0m\n",
      "\u001b[?25hCollecting kiwisolver>=1.3.1 (from matplotlib)\n",
      "  Downloading kiwisolver-1.4.5-cp310-cp310-manylinux_2_12_x86_64.manylinux2010_x86_64.whl.metadata (6.4 kB)\n",
      "Requirement already satisfied: numpy>=1.23 in /srv/conda/envs/notebook/lib/python3.10/site-packages (from matplotlib) (1.26.4)\n",
      "Requirement already satisfied: packaging>=20.0 in /srv/conda/envs/notebook/lib/python3.10/site-packages (from matplotlib) (24.0)\n",
      "Requirement already satisfied: pillow>=8 in /srv/conda/envs/notebook/lib/python3.10/site-packages (from matplotlib) (10.2.0)\n",
      "Collecting pyparsing>=2.3.1 (from matplotlib)\n",
      "  Downloading pyparsing-3.1.2-py3-none-any.whl.metadata (5.1 kB)\n",
      "Requirement already satisfied: python-dateutil>=2.7 in /srv/conda/envs/notebook/lib/python3.10/site-packages (from matplotlib) (2.9.0)\n",
      "Requirement already satisfied: six>=1.5 in /srv/conda/envs/notebook/lib/python3.10/site-packages (from python-dateutil>=2.7->matplotlib) (1.16.0)\n",
      "Downloading matplotlib-3.9.0-cp310-cp310-manylinux_2_17_x86_64.manylinux2014_x86_64.whl (8.3 MB)\n",
      "\u001b[2K   \u001b[90m━━━━━━━━━━━━━━━━━━━━━━━━━━━━━━━━━━━━━━━━\u001b[0m \u001b[32m8.3/8.3 MB\u001b[0m \u001b[31m3.3 MB/s\u001b[0m eta \u001b[36m0:00:00\u001b[0m00:01\u001b[0m00:01\u001b[0m\n",
      "\u001b[?25hDownloading contourpy-1.2.1-cp310-cp310-manylinux_2_17_x86_64.manylinux2014_x86_64.whl (305 kB)\n",
      "\u001b[2K   \u001b[90m━━━━━━━━━━━━━━━━━━━━━━━━━━━━━━━━━━━━━━━━\u001b[0m \u001b[32m305.2/305.2 kB\u001b[0m \u001b[31m5.1 MB/s\u001b[0m eta \u001b[36m0:00:00\u001b[0ma \u001b[36m0:00:01\u001b[0m\n",
      "\u001b[?25hDownloading cycler-0.12.1-py3-none-any.whl (8.3 kB)\n",
      "Downloading fonttools-4.53.0-cp310-cp310-manylinux_2_17_x86_64.manylinux2014_x86_64.whl (4.6 MB)\n",
      "\u001b[2K   \u001b[90m━━━━━━━━━━━━━━━━━━━━━━━━━━━━━━━━━━━━━━━━\u001b[0m \u001b[32m4.6/4.6 MB\u001b[0m \u001b[31m5.5 MB/s\u001b[0m eta \u001b[36m0:00:00\u001b[0m00:01\u001b[0m00:01\u001b[0m\n",
      "\u001b[?25hDownloading kiwisolver-1.4.5-cp310-cp310-manylinux_2_12_x86_64.manylinux2010_x86_64.whl (1.6 MB)\n",
      "\u001b[2K   \u001b[90m━━━━━━━━━━━━━━━━━━━━━━━━━━━━━━━━━━━━━━━━\u001b[0m \u001b[32m1.6/1.6 MB\u001b[0m \u001b[31m6.8 MB/s\u001b[0m eta \u001b[36m0:00:00\u001b[0m00:01\u001b[0m00:01\u001b[0m\n",
      "\u001b[?25hDownloading pyparsing-3.1.2-py3-none-any.whl (103 kB)\n",
      "\u001b[2K   \u001b[90m━━━━━━━━━━━━━━━━━━━━━━━━━━━━━━━━━━━━━━━━\u001b[0m \u001b[32m103.2/103.2 kB\u001b[0m \u001b[31m10.5 MB/s\u001b[0m eta \u001b[36m0:00:00\u001b[0m\n",
      "\u001b[?25hInstalling collected packages: pyparsing, kiwisolver, fonttools, cycler, contourpy, matplotlib\n",
      "Successfully installed contourpy-1.2.1 cycler-0.12.1 fonttools-4.53.0 kiwisolver-1.4.5 matplotlib-3.9.0 pyparsing-3.1.2\n"
     ]
    }
   ],
   "source": [
    "!pip install matplotlib"
   ]
  },
  {
   "cell_type": "code",
   "execution_count": 13,
   "id": "cefcd4fb-62c6-4519-855b-d21da96a2135",
   "metadata": {},
   "outputs": [
    {
     "data": {
      "image/png": "[encoded data removed]",
      "text/plain": [
       "<Figure size 640x480 with 1 Axes>"
      ]
     },
     "metadata": {},
     "output_type": "display_data"
    }
   ],
   "source": [
    "import matplotlib.pyplot as plt\n",
    "import numpy as np\n",
    "\n",
    "x_data = [point[0] for point in random_points]\n",
    "y_data = [point[1] for point in random_points]\n",
    "\n",
    "slope = model.linear.weight.item()\n",
    "intercept = model.linear.bias.item()\n",
    "\n",
    "# Create x values for the line\n",
    "x_line = np.linspace(min(x_data), max(x_data), 100)\n",
    "y_line = slope * x_line + intercept\n",
    "\n",
    "# Plot the points and the linear line\n",
    "plt.scatter(x_data, y_data, label=\"Random Points\", color=\"blue\")\n",
    "plt.plot(x_line, y_line, label=\"Linear Line\", color=\"red\")\n",
    "\n",
    "plt.xlabel(\"X\")\n",
    "plt.ylabel(\"Y\")\n",
    "plt.title(\"Random Points and Linear Regression Line\")\n",
    "plt.legend()\n",
    "plt.grid(True)\n",
    "plt.show()\n",
    "\n"
   ]
  },
  {
   "cell_type": "code",
   "execution_count": 15,
   "id": "e3c48ab5-183d-4eb1-9b19-0a752bc92ffc",
   "metadata": {},
   "outputs": [],
   "source": [
    "# Convert points to tensors\n",
    "x_data = torch.tensor([point[0] for point in random_points], dtype=torch.float32).unsqueeze(1)\n",
    "y_data = torch.tensor([point[1] for point in random_points], dtype=torch.float32).unsqueeze(1)"
   ]
  },
  {
   "cell_type": "code",
   "execution_count": 16,
   "id": "fc09c2fe-2c0d-4181-b65d-67a0eda8dfb6",
   "metadata": {},
   "outputs": [
    {
     "data": {
      "image/png": "[encoded data removed]",
      "text/plain": [
       "<Figure size 640x480 with 1 Axes>"
      ]
     },
     "metadata": {},
     "output_type": "display_data"
    }
   ],
   "source": [
    "import matplotlib.pyplot as plt\n",
    "\n",
    "# Training loop (already defined)\n",
    "num_epochs = 100\n",
    "training_epoch_loss = []  # To store training loss at each epoch\n",
    "\n",
    "for epoch in range(num_epochs):\n",
    "    # Forward pass\n",
    "    y_pred = model(x_data)\n",
    "    \n",
    "    # Compute the loss\n",
    "    loss = criterion(y_pred, y_data)\n",
    "    \n",
    "    # Backward pass and optimization\n",
    "    optimizer.zero_grad()\n",
    "    loss.backward()\n",
    "    optimizer.step()\n",
    "    \n",
    "    # Store training loss\n",
    "    training_epoch_loss.append(loss.item())\n",
    "\n",
    "# Plot the decreasing loss over training iterations\n",
    "plt.plot(range(1, num_epochs + 1), training_epoch_loss, label=\"Training Loss\")\n",
    "plt.xlabel(\"Epoch\")\n",
    "plt.ylabel(\"Loss\")\n",
    "plt.title(\"Training Loss vs. Epochs\")\n",
    "plt.grid(True)\n",
    "plt.legend()\n",
    "plt.show()\n"
   ]
  },
  {
   "cell_type": "code",
   "execution_count": null,
   "id": "5f170438-7167-4c88-85ed-a73e7dd3af3f",
   "metadata": {},
   "outputs": [],
   "source": []
  }
 ],
 "metadata": {
  "kernelspec": {
   "display_name": "Python 3 (ipykernel)",
   "language": "python",
   "name": "python3"
  },
  "language_info": {
   "codemirror_mode": {
    "name": "ipython",
    "version": 3
   },
   "file_extension": ".py",
   "mimetype": "text/x-python",
   "name": "python",
   "nbconvert_exporter": "python",
   "pygments_lexer": "ipython3",
   "version": "3.10.14"
  }
 },
 "nbformat": 4,
 "nbformat_minor": 5
}
